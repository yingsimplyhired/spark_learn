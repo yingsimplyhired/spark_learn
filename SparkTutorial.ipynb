{
 "cells": [
  {
   "cell_type": "markdown",
   "metadata": {},
   "source": [
    "### Install Spark\n",
    "\n",
    "#### Download spark from:  https://spark.apache.org/downloads.html"
   ]
  },
  {
   "cell_type": "markdown",
   "metadata": {},
   "source": [
    "### Spark Context"
   ]
  },
  {
   "cell_type": "code",
   "execution_count": 62,
   "metadata": {
    "collapsed": false
   },
   "outputs": [
    {
     "data": {
      "text/plain": [
       "<pyspark.context.SparkContext at 0x24b4d50>"
      ]
     },
     "execution_count": 62,
     "metadata": {},
     "output_type": "execute_result"
    }
   ],
   "source": [
    "sc"
   ]
  },
  {
   "cell_type": "code",
   "execution_count": 63,
   "metadata": {
    "collapsed": false
   },
   "outputs": [
    {
     "data": {
      "text/plain": [
       "u'1.5.2'"
      ]
     },
     "execution_count": 63,
     "metadata": {},
     "output_type": "execute_result"
    }
   ],
   "source": [
    "sc.version"
   ]
  },
  {
   "cell_type": "markdown",
   "metadata": {},
   "source": [
    "## RDD\n",
    "### Resilient Distributed Datasets\n",
    "Fault-tolerant collection of elements that can be operated on in parallel.\n",
    "\n",
    "Creating RDDs\n",
    "* *parallelizing* an existing collection\n",
    "* referencing a dataset in an external storage system, such as a shared filesystem, HDFS, HBase, or any data source offering a Hadoop InputFormat."
   ]
  },
  {
   "cell_type": "markdown",
   "metadata": {},
   "source": [
    "### Create an RDD - *Parallelize* existing collection"
   ]
  },
  {
   "cell_type": "code",
   "execution_count": 64,
   "metadata": {
    "collapsed": false
   },
   "outputs": [],
   "source": [
    "from numpy import random as RND"
   ]
  },
  {
   "cell_type": "code",
   "execution_count": 65,
   "metadata": {
    "collapsed": true
   },
   "outputs": [],
   "source": [
    "r = RND.randint(1, 101, 10000000)"
   ]
  },
  {
   "cell_type": "code",
   "execution_count": 66,
   "metadata": {
    "collapsed": false,
    "scrolled": false
   },
   "outputs": [
    {
     "data": {
      "text/plain": [
       "array([ 20,   8,  45,  34,  54,  21,  31,  19,  12,   3,  46,  73,   3,\n",
       "        13,  55,  39,  72,  84,  84,  17,  36,  89,  58,  13,  13,  14,\n",
       "        65,  68,  92,   6,  53,  85,  85,   7,  60,  30,  45,  40,  54,\n",
       "        69,  71,  10,  47,  17,  77,   7,  31,  10,  35,  99,  60,   4,\n",
       "        55,  55,  64,  36,  36,  21,  46,  16,   1,  48,  12,  84,  47,\n",
       "        71,  64,  34,   9,  30,  24,  17,  31,  49,  99,  58,  41,  51,\n",
       "        94,  44,  62,   8,  10,  87,  36,  12,  37,  78,  65,  14,  68,\n",
       "        95,  76,  25,  94,   9,  94,  29,  95, 100])"
      ]
     },
     "execution_count": 66,
     "metadata": {},
     "output_type": "execute_result"
    }
   ],
   "source": [
    "r[:100]"
   ]
  },
  {
   "cell_type": "code",
   "execution_count": 67,
   "metadata": {
    "collapsed": false
   },
   "outputs": [
    {
     "data": {
      "text/plain": [
       "ParallelCollectionRDD[108] at parallelize at PythonRDD.scala:423"
      ]
     },
     "execution_count": 67,
     "metadata": {},
     "output_type": "execute_result"
    }
   ],
   "source": [
    "rdd = sc.parallelize(r)\n",
    "rdd"
   ]
  },
  {
   "cell_type": "code",
   "execution_count": 69,
   "metadata": {
    "collapsed": false
   },
   "outputs": [
    {
     "data": {
      "text/plain": [
       "50.502913700000057"
      ]
     },
     "execution_count": 69,
     "metadata": {},
     "output_type": "execute_result"
    }
   ],
   "source": [
    "rdd.mean()"
   ]
  },
  {
   "cell_type": "code",
   "execution_count": 70,
   "metadata": {
    "collapsed": false
   },
   "outputs": [
    {
     "data": {
      "text/plain": [
       "(count: 10000000, mean: 50.5029137, stdev: 28.8576812393, max: 100.0, min: 1.0)"
      ]
     },
     "execution_count": 70,
     "metadata": {},
     "output_type": "execute_result"
    }
   ],
   "source": [
    "rdd.stats()"
   ]
  },
  {
   "cell_type": "markdown",
   "metadata": {},
   "source": [
    "### Operations on RDD\n",
    "* Transformations - Lazy operations\n",
    "* Actions"
   ]
  },
  {
   "cell_type": "markdown",
   "metadata": {},
   "source": [
    "### Apply transformations"
   ]
  },
  {
   "cell_type": "code",
   "execution_count": 72,
   "metadata": {
    "collapsed": false
   },
   "outputs": [],
   "source": [
    "rdd_map = rdd.map(lambda x: (x, 1))"
   ]
  },
  {
   "cell_type": "code",
   "execution_count": 73,
   "metadata": {
    "collapsed": true
   },
   "outputs": [],
   "source": [
    "rdd_reduce = rdd_map.reduceByKey(lambda a, b: a+b)"
   ]
  },
  {
   "cell_type": "code",
   "execution_count": 74,
   "metadata": {
    "collapsed": false
   },
   "outputs": [
    {
     "name": "stdout",
     "output_type": "stream",
     "text": [
      "(32) PythonRDD[116] at RDD at PythonRDD.scala:43 []\n",
      " |   MapPartitionsRDD[115] at mapPartitions at PythonRDD.scala:374 []\n",
      " |   ShuffledRDD[114] at partitionBy at NativeMethodAccessorImpl.java:-2 []\n",
      " +-(32) PairwiseRDD[113] at reduceByKey at <ipython-input-73-0e75050cf259>:1 []\n",
      "    |   PythonRDD[112] at reduceByKey at <ipython-input-73-0e75050cf259>:1 []\n",
      "    |   ParallelCollectionRDD[108] at parallelize at PythonRDD.scala:423 []\n"
     ]
    }
   ],
   "source": [
    "print rdd_reduce.toDebugString()"
   ]
  },
  {
   "cell_type": "markdown",
   "metadata": {},
   "source": [
    "### Apply actions"
   ]
  },
  {
   "cell_type": "code",
   "execution_count": 75,
   "metadata": {
    "collapsed": false,
    "scrolled": true
   },
   "outputs": [
    {
     "data": {
      "text/plain": [
       "[(32, 100254),\n",
       " (64, 99947),\n",
       " (96, 99913),\n",
       " (1, 100164),\n",
       " (97, 99861),\n",
       " (65, 99927),\n",
       " (33, 100109),\n",
       " (2, 99936),\n",
       " (98, 99840),\n",
       " (66, 100165),\n",
       " (34, 99676),\n",
       " (99, 99960),\n",
       " (35, 100188),\n",
       " (67, 100201),\n",
       " (3, 99528),\n",
       " (68, 99892),\n",
       " (36, 100650),\n",
       " (4, 99642),\n",
       " (100, 99821),\n",
       " (5, 100380),\n",
       " (69, 99082),\n",
       " (37, 99450),\n",
       " (70, 100521),\n",
       " (38, 100483),\n",
       " (6, 99992),\n",
       " (71, 99830),\n",
       " (39, 99620),\n",
       " (7, 99781),\n",
       " (8, 99188),\n",
       " (40, 99933),\n",
       " (72, 100785),\n",
       " (9, 99984),\n",
       " (73, 100183),\n",
       " (41, 100009),\n",
       " (10, 99565),\n",
       " (74, 99850),\n",
       " (42, 100504),\n",
       " (43, 100074),\n",
       " (75, 100588),\n",
       " (11, 99968),\n",
       " (76, 99974),\n",
       " (44, 100525),\n",
       " (12, 99960),\n",
       " (13, 99948),\n",
       " (77, 100088),\n",
       " (45, 100007),\n",
       " (78, 99395),\n",
       " (46, 99917),\n",
       " (14, 100271),\n",
       " (79, 99867),\n",
       " (47, 99614),\n",
       " (15, 99797),\n",
       " (16, 99573),\n",
       " (48, 100340),\n",
       " (80, 100648),\n",
       " (17, 100131),\n",
       " (81, 100164),\n",
       " (49, 100298),\n",
       " (18, 99995),\n",
       " (82, 99426),\n",
       " (50, 99876),\n",
       " (51, 100148),\n",
       " (83, 99715),\n",
       " (19, 100166),\n",
       " (84, 99617),\n",
       " (52, 100283),\n",
       " (20, 100332),\n",
       " (21, 99974),\n",
       " (85, 100218),\n",
       " (53, 99592),\n",
       " (86, 100258),\n",
       " (54, 100536),\n",
       " (22, 99716),\n",
       " (87, 100646),\n",
       " (55, 100306),\n",
       " (23, 99829),\n",
       " (24, 100039),\n",
       " (56, 99784),\n",
       " (88, 99947),\n",
       " (25, 100064),\n",
       " (89, 100086),\n",
       " (57, 100223),\n",
       " (26, 99972),\n",
       " (90, 99599),\n",
       " (58, 100219),\n",
       " (59, 99952),\n",
       " (91, 99727),\n",
       " (27, 99756),\n",
       " (92, 100422),\n",
       " (60, 99999),\n",
       " (28, 100428),\n",
       " (29, 99973),\n",
       " (93, 99867),\n",
       " (61, 99465),\n",
       " (94, 99697),\n",
       " (62, 100081),\n",
       " (30, 99863),\n",
       " (95, 100054),\n",
       " (63, 99521),\n",
       " (31, 100668)]"
      ]
     },
     "execution_count": 75,
     "metadata": {},
     "output_type": "execute_result"
    }
   ],
   "source": [
    "rdd_reduce.collect()"
   ]
  },
  {
   "cell_type": "markdown",
   "metadata": {},
   "source": [
    "### Persist"
   ]
  },
  {
   "cell_type": "code",
   "execution_count": 76,
   "metadata": {
    "collapsed": false
   },
   "outputs": [
    {
     "data": {
      "text/plain": [
       "PythonRDD[116] at RDD at PythonRDD.scala:43"
      ]
     },
     "execution_count": 76,
     "metadata": {},
     "output_type": "execute_result"
    }
   ],
   "source": [
    "rdd_reduce.cache()\n",
    "\n",
    "#rdd_reduce.persist(StorageLevel.MEMORY_ONLY)"
   ]
  },
  {
   "cell_type": "code",
   "execution_count": 77,
   "metadata": {
    "collapsed": false
   },
   "outputs": [
    {
     "data": {
      "text/plain": [
       "[(32, 100254),\n",
       " (64, 99947),\n",
       " (96, 99913),\n",
       " (1, 100164),\n",
       " (97, 99861),\n",
       " (65, 99927),\n",
       " (33, 100109),\n",
       " (2, 99936),\n",
       " (98, 99840),\n",
       " (66, 100165)]"
      ]
     },
     "execution_count": 77,
     "metadata": {},
     "output_type": "execute_result"
    }
   ],
   "source": [
    "rdd_reduce.take(10)"
   ]
  },
  {
   "cell_type": "code",
   "execution_count": 19,
   "metadata": {
    "collapsed": false
   },
   "outputs": [
    {
     "data": {
      "text/plain": [
       "(32, 100126)"
      ]
     },
     "execution_count": 19,
     "metadata": {},
     "output_type": "execute_result"
    }
   ],
   "source": [
    "rdd_reduce.first()"
   ]
  },
  {
   "cell_type": "code",
   "execution_count": 20,
   "metadata": {
    "collapsed": false
   },
   "outputs": [
    {
     "data": {
      "text/plain": [
       "100"
      ]
     },
     "execution_count": 20,
     "metadata": {},
     "output_type": "execute_result"
    }
   ],
   "source": [
    "rdd_reduce.count()"
   ]
  },
  {
   "cell_type": "code",
   "execution_count": 21,
   "metadata": {
    "collapsed": true
   },
   "outputs": [],
   "source": [
    "rdd_reduce.saveAsTextFile('output.txt')"
   ]
  },
  {
   "cell_type": "markdown",
   "metadata": {},
   "source": [
    "### Sort by key"
   ]
  },
  {
   "cell_type": "code",
   "execution_count": 22,
   "metadata": {
    "collapsed": true
   },
   "outputs": [],
   "source": [
    "rdd_reduce_sort_key = rdd_reduce.sortByKey()"
   ]
  },
  {
   "cell_type": "code",
   "execution_count": 23,
   "metadata": {
    "collapsed": false
   },
   "outputs": [
    {
     "data": {
      "text/plain": [
       "[(1, 99537),\n",
       " (2, 99630),\n",
       " (3, 99752),\n",
       " (4, 100570),\n",
       " (5, 100091),\n",
       " (6, 100480),\n",
       " (7, 100319),\n",
       " (8, 99984),\n",
       " (9, 99868),\n",
       " (10, 100249)]"
      ]
     },
     "execution_count": 23,
     "metadata": {},
     "output_type": "execute_result"
    }
   ],
   "source": [
    "rdd_reduce_sort_key.take(10)"
   ]
  },
  {
   "cell_type": "code",
   "execution_count": 24,
   "metadata": {
    "collapsed": true
   },
   "outputs": [],
   "source": [
    "rdd_reduce_sort_key = rdd_reduce.sortByKey(ascending=False)"
   ]
  },
  {
   "cell_type": "code",
   "execution_count": 25,
   "metadata": {
    "collapsed": false
   },
   "outputs": [
    {
     "data": {
      "text/plain": [
       "[(100, 99722),\n",
       " (99, 100400),\n",
       " (98, 100321),\n",
       " (97, 100017),\n",
       " (96, 99793),\n",
       " (95, 100169),\n",
       " (94, 100604),\n",
       " (93, 100026),\n",
       " (92, 100176),\n",
       " (91, 100241)]"
      ]
     },
     "execution_count": 25,
     "metadata": {},
     "output_type": "execute_result"
    }
   ],
   "source": [
    "rdd_reduce_sort_key.take(10)"
   ]
  },
  {
   "cell_type": "markdown",
   "metadata": {},
   "source": [
    "### Sort by value"
   ]
  },
  {
   "cell_type": "code",
   "execution_count": 26,
   "metadata": {
    "collapsed": true
   },
   "outputs": [],
   "source": [
    "rdd_reduce_sort_value = rdd_reduce.sortBy(lambda x: x[1], ascending=False)"
   ]
  },
  {
   "cell_type": "code",
   "execution_count": 27,
   "metadata": {
    "collapsed": false
   },
   "outputs": [
    {
     "data": {
      "text/plain": [
       "[(54, 100874),\n",
       " (75, 100611),\n",
       " (94, 100604),\n",
       " (4, 100570),\n",
       " (19, 100510),\n",
       " (85, 100496),\n",
       " (6, 100480),\n",
       " (17, 100478),\n",
       " (80, 100406),\n",
       " (99, 100400)]"
      ]
     },
     "execution_count": 27,
     "metadata": {},
     "output_type": "execute_result"
    }
   ],
   "source": [
    "rdd_reduce_sort_value.take(10)"
   ]
  },
  {
   "cell_type": "code",
   "execution_count": 28,
   "metadata": {
    "collapsed": false
   },
   "outputs": [
    {
     "name": "stdout",
     "output_type": "stream",
     "text": [
      "(32) PythonRDD[42] at RDD at PythonRDD.scala:43 []\n",
      " |   MapPartitionsRDD[39] at mapPartitions at PythonRDD.scala:374 []\n",
      " |   ShuffledRDD[38] at partitionBy at NativeMethodAccessorImpl.java:-2 []\n",
      " +-(32) PairwiseRDD[37] at sortBy at <ipython-input-26-4199a7551756>:1 []\n",
      "    |   PythonRDD[36] at sortBy at <ipython-input-26-4199a7551756>:1 []\n",
      "    |   PythonRDD[10] at RDD at PythonRDD.scala:43 []\n",
      "    |       CachedPartitions: 32; MemorySize: 6.6 KB; ExternalBlockStoreSize: 0.0 B; DiskSize: 0.0 B\n",
      "    |   MapPartitionsRDD[9] at mapPartitions at PythonRDD.scala:374 []\n",
      "    |   ShuffledRDD[8] at partitionBy at NativeMethodAccessorImpl.java:-2 []\n",
      "    +-(32) PairwiseRDD[7] at reduceByKey at <ipython-input-14-0e75050cf259>:1 []\n",
      "       |   PythonRDD[6] at reduceByKey at <ipython-input-14-0e75050cf259>:1 []\n",
      "       |   ParallelCollectionRDD[4] at parallelize at PythonRDD.scala:423 []\n"
     ]
    }
   ],
   "source": [
    "print rdd_reduce_sort_value.toDebugString()"
   ]
  },
  {
   "cell_type": "markdown",
   "metadata": {},
   "source": [
    "###Custom partition size"
   ]
  },
  {
   "cell_type": "code",
   "execution_count": 29,
   "metadata": {
    "collapsed": true
   },
   "outputs": [],
   "source": [
    "rdd = sc.parallelize(r,10)"
   ]
  },
  {
   "cell_type": "code",
   "execution_count": 30,
   "metadata": {
    "collapsed": true
   },
   "outputs": [],
   "source": [
    "rdd_map = rdd.map(lambda x: (x, 1))\n",
    "rdd_reduce = rdd_map.reduceByKey(lambda a, b: a+b, 5)"
   ]
  },
  {
   "cell_type": "code",
   "execution_count": 31,
   "metadata": {
    "collapsed": false
   },
   "outputs": [
    {
     "name": "stdout",
     "output_type": "stream",
     "text": [
      "(5) PythonRDD[48] at RDD at PythonRDD.scala:43 []\n",
      " |  MapPartitionsRDD[47] at mapPartitions at PythonRDD.scala:374 []\n",
      " |  ShuffledRDD[46] at partitionBy at NativeMethodAccessorImpl.java:-2 []\n",
      " +-(10) PairwiseRDD[45] at reduceByKey at <ipython-input-30-cd3349b29452>:2 []\n",
      "    |   PythonRDD[44] at reduceByKey at <ipython-input-30-cd3349b29452>:2 []\n",
      "    |   ParallelCollectionRDD[43] at parallelize at PythonRDD.scala:423 []\n"
     ]
    }
   ],
   "source": [
    "print rdd_reduce.toDebugString()"
   ]
  },
  {
   "cell_type": "code",
   "execution_count": 32,
   "metadata": {
    "collapsed": false
   },
   "outputs": [
    {
     "data": {
      "text/plain": [
       "[(65, 99789),\n",
       " (35, 99855),\n",
       " (100, 99722),\n",
       " (5, 100091),\n",
       " (70, 99619),\n",
       " (40, 99692),\n",
       " (10, 100249),\n",
       " (75, 100611),\n",
       " (45, 99914),\n",
       " (15, 99848)]"
      ]
     },
     "execution_count": 32,
     "metadata": {},
     "output_type": "execute_result"
    }
   ],
   "source": [
    "rdd_reduce.take(10)"
   ]
  },
  {
   "cell_type": "markdown",
   "metadata": {},
   "source": [
    "## Without spark"
   ]
  },
  {
   "cell_type": "code",
   "execution_count": 78,
   "metadata": {
    "collapsed": false
   },
   "outputs": [
    {
     "data": {
      "text/plain": [
       "[('-', 961245),\n",
       " ('/', 301399),\n",
       " ('manager', 198220),\n",
       " ('job', 144905),\n",
       " ('nurse', 137965),\n",
       " ('and', 124298),\n",
       " ('in', 121744),\n",
       " ('assistant', 110689),\n",
       " ('sales', 103689),\n",
       " ('engineer', 102173)]"
      ]
     },
     "execution_count": 78,
     "metadata": {},
     "output_type": "execute_result"
    }
   ],
   "source": [
    "with open('/home/haroon/projects/SHOnet/production_jobs_0303_US.tsv') as f:\n",
    "    word_count = {}\n",
    "    \n",
    "    for line in f:\n",
    "        title = line.strip().split('\\t')[0].lower()\n",
    "        for token in title.split(' '):\n",
    "            try:\n",
    "                word_count[token] += 1\n",
    "            except KeyError:\n",
    "                word_count[token] = 1\n",
    "                \n",
    "sorted(word_count.iteritems(), key=lambda x: x[1], reverse=True)[:10]"
   ]
  },
  {
   "cell_type": "markdown",
   "metadata": {},
   "source": [
    "## With Spark"
   ]
  },
  {
   "cell_type": "code",
   "execution_count": 79,
   "metadata": {
    "collapsed": true
   },
   "outputs": [],
   "source": [
    "rdd = sc.textFile('/home/haroon/projects/SHOnet/production_jobs_0303_US.tsv', minPartitions=32)"
   ]
  },
  {
   "cell_type": "code",
   "execution_count": 80,
   "metadata": {
    "collapsed": false
   },
   "outputs": [
    {
     "data": {
      "text/plain": [
       "[u'Financial Consultant - Westlake, TX - Future Opportunities\\t41-3031.02',\n",
       " u'Emergency Room RN Travel Nursing Job\\t29-1141.00']"
      ]
     },
     "execution_count": 80,
     "metadata": {},
     "output_type": "execute_result"
    }
   ],
   "source": [
    "rdd.take(2)"
   ]
  },
  {
   "cell_type": "code",
   "execution_count": 81,
   "metadata": {
    "collapsed": true
   },
   "outputs": [],
   "source": [
    "rdd_title = rdd.map(lambda x: x.split('\\t')[0])"
   ]
  },
  {
   "cell_type": "code",
   "execution_count": 82,
   "metadata": {
    "collapsed": false
   },
   "outputs": [
    {
     "data": {
      "text/plain": [
       "[u'Financial Consultant - Westlake, TX - Future Opportunities',\n",
       " u'Emergency Room RN Travel Nursing Job',\n",
       " u'Hiring Experienced Class A-CDL Driving Professionals for Dedicated Regional Route',\n",
       " u'Account Clerk I',\n",
       " u'Resident Care Associate']"
      ]
     },
     "execution_count": 82,
     "metadata": {},
     "output_type": "execute_result"
    }
   ],
   "source": [
    "rdd_title.take(5)"
   ]
  },
  {
   "cell_type": "markdown",
   "metadata": {},
   "source": [
    "### Job Title word count"
   ]
  },
  {
   "cell_type": "code",
   "execution_count": 83,
   "metadata": {
    "collapsed": true
   },
   "outputs": [],
   "source": [
    "wc = rdd_title.flatMap(lambda x: x.split(' ')).map(lambda x: (x, 1)).reduceByKey(lambda a, b: a+b)"
   ]
  },
  {
   "cell_type": "code",
   "execution_count": 84,
   "metadata": {
    "collapsed": false
   },
   "outputs": [
    {
     "name": "stdout",
     "output_type": "stream",
     "text": [
      "(32) PythonRDD[127] at RDD at PythonRDD.scala:43 []\n",
      " |   MapPartitionsRDD[126] at mapPartitions at PythonRDD.scala:374 []\n",
      " |   ShuffledRDD[125] at partitionBy at NativeMethodAccessorImpl.java:-2 []\n",
      " +-(32) PairwiseRDD[124] at reduceByKey at <ipython-input-83-f179d6b771b5>:1 []\n",
      "    |   PythonRDD[123] at reduceByKey at <ipython-input-83-f179d6b771b5>:1 []\n",
      "    |   MapPartitionsRDD[120] at textFile at NativeMethodAccessorImpl.java:-2 []\n",
      "    |   /home/haroon/projects/SHOnet/production_jobs_0303_US.tsv HadoopRDD[119] at textFile at NativeMethodAccessorImpl.java:-2 []\n"
     ]
    }
   ],
   "source": [
    "print wc.toDebugString()"
   ]
  },
  {
   "cell_type": "code",
   "execution_count": 87,
   "metadata": {
    "collapsed": false
   },
   "outputs": [
    {
     "data": {
      "text/plain": [
       "[(u'Executive-Laboratory', 1),\n",
       " (u'', 22),\n",
       " (u'(101803)', 1),\n",
       " (u'Co-Founder/CEO', 1),\n",
       " (u'(Enh12)', 1),\n",
       " (u'(171620)', 1),\n",
       " (u'101,', 10),\n",
       " (u'(49614674)', 1),\n",
       " (u'I-494', 1),\n",
       " (u'SPECIALIST-PHYSICIAN', 1),\n",
       " (u'Grower/Logistics', 1),\n",
       " (u'PFM)', 1),\n",
       " (u'Management/New', 1),\n",
       " (u'72707', 1),\n",
       " (u'(01154176)', 1),\n",
       " (u'WA(12', 1),\n",
       " (u'800-1200', 3),\n",
       " (u'CPU/System', 2),\n",
       " (u'LASP', 1),\n",
       " (u'0343', 8),\n",
       " (u'Sr.Front-end', 1),\n",
       " (u'218056', 1),\n",
       " (u'TIM00363', 1),\n",
       " (u'(44696268)', 1),\n",
       " (u'Disptach)', 1),\n",
       " (u'YUMA', 7),\n",
       " (u'O39', 1),\n",
       " (u'(41462168749-623)', 1),\n",
       " (u'(102792)', 1),\n",
       " (u'010612', 5),\n",
       " (u'Selector/Forklift', 3),\n",
       " (u'Physicall', 2),\n",
       " (u'(44286489)', 1),\n",
       " (u'Center-No', 1),\n",
       " (u'Specialist.FullTime.7009Hwy6.', 1),\n",
       " (u'OFFLN', 1),\n",
       " (u'(601231)', 8),\n",
       " (u'ASST-IMAGING', 1),\n",
       " (u'(TS-308)', 2),\n",
       " (u'Control-Spendid', 1),\n",
       " (u'TriHealth', 4),\n",
       " (u'/Hire', 1),\n",
       " (u'Developer/SSRS', 1),\n",
       " (u'Consultant\"', 2),\n",
       " (u'Salomon', 5),\n",
       " (u'Investment/Fund', 3),\n",
       " (u'Sq.ft.', 1),\n",
       " (u'Coolville', 1),\n",
       " (u'Scientist-Companion', 1),\n",
       " (u'(01150543)', 1),\n",
       " (u'945529', 1),\n",
       " (u'Telco/SI', 3),\n",
       " (u'$95-$100k', 2),\n",
       " (u'Case)', 3),\n",
       " (u'(Kapital)', 1),\n",
       " (u'EVALUATORS', 1),\n",
       " (u'tax)', 1),\n",
       " (u'(TDD)', 4),\n",
       " (u'(S-1307)', 1),\n",
       " (u'(95710)', 1),\n",
       " (u'(P000025819)', 1),\n",
       " (u'(48408302)', 1),\n",
       " (u'4119226', 1),\n",
       " (u'Pre-Operative/Post-Operative', 1),\n",
       " (u'#1218)', 1),\n",
       " (u'Courtyard-Campground', 1),\n",
       " (u'Park/Hampton', 1),\n",
       " (u'(Hadoop/Hive)', 1),\n",
       " (u'(376-083)', 1),\n",
       " (u'1028149', 1),\n",
       " (u'Higher,', 2),\n",
       " (u'(541847)', 1),\n",
       " (u'639189', 1),\n",
       " (u'Substitutes/Para', 1),\n",
       " (u'LA-RICS', 1),\n",
       " (u'(TX-Marble', 3),\n",
       " (u'(00009-63913)', 1),\n",
       " (u'(659353)', 1),\n",
       " (u'(2014780)', 1),\n",
       " (u'Care/G-SACH', 1),\n",
       " (u'CENTER/COLOCATION', 1),\n",
       " (u'Tues-Thurs', 1),\n",
       " (u'Doing!', 2),\n",
       " (u'(1600004H)', 1),\n",
       " (u'Entomologist/Plant', 1),\n",
       " (u'PACT)', 8),\n",
       " (u'(114092)', 1),\n",
       " (u'I/II/III/Senior', 1),\n",
       " (u'$1000/wk', 17),\n",
       " (u'Registrar-Budgeted', 1),\n",
       " (u'Admission/Registrar', 1),\n",
       " (u'Linclon', 1),\n",
       " (u'SERVICE/ADMINISTRATIVE', 1),\n",
       " (u'Compton/Los', 1),\n",
       " (u'Launguage', 1),\n",
       " (u'Specialist(SMI.Custom', 1),\n",
       " (u'Architect(SQL,SAS,SAPCrystal', 1),\n",
       " (u'218773', 2),\n",
       " (u'Driver(02787)', 1),\n",
       " (u'281502', 1),\n",
       " (u'1519546', 1),\n",
       " (u'BENEFITS!!!', 2),\n",
       " (u'Exterminating', 2),\n",
       " (u'Deforest/', 1),\n",
       " (u'(FT),', 2),\n",
       " (u'(570638)', 1),\n",
       " (u'(40397897)', 1),\n",
       " (u'McDuffie,', 1),\n",
       " (u'(601644)', 9),\n",
       " (u'(97600)', 1),\n",
       " (u'Clerk6822', 1),\n",
       " (u'Assante', 1),\n",
       " (u'#486011', 1),\n",
       " (u'Sales-PreQualified', 1),\n",
       " (u'Administrator-6015s', 1),\n",
       " (u'(50220060)', 2),\n",
       " (u'Team/Clinical', 1),\n",
       " (u'RBD,', 2),\n",
       " (u'Sort)', 1),\n",
       " (u'(50265474)', 1),\n",
       " (u'#4-97510-33485#', 1),\n",
       " (u'Medical-SurgicalVT', 1),\n",
       " (u'Manager-Flooring', 2),\n",
       " (u'7AM-3:30PM,', 2),\n",
       " (u'Manger', 446),\n",
       " (u'Contracts)', 11),\n",
       " (u'Areal', 1),\n",
       " (u'Wont', 1),\n",
       " (u'(CCR)', 7),\n",
       " (u'Optometrist-Daytona', 1),\n",
       " (u'1029029', 2),\n",
       " (u'HAMMOND,', 2),\n",
       " (u'1515883', 1),\n",
       " (u'(Fee-Basis,', 1),\n",
       " (u'RESIDENT-Therapy', 2),\n",
       " (u'(Bowie)', 10),\n",
       " (u'65369', 1),\n",
       " (u'BA-CCAR', 1),\n",
       " (u'VEV', 1),\n",
       " (u'Integration/DevOps', 3),\n",
       " (u'3214)', 1),\n",
       " (u'4282', 1),\n",
       " (u'(481053)', 1),\n",
       " (u'well-educated,', 2),\n",
       " (u'(L2826)', 1),\n",
       " (u'Anesthesiology-Pain', 4),\n",
       " (u'IT/Desktop', 2),\n",
       " (u'Sales-Roofing', 1),\n",
       " (u'Driver(06615)', 1),\n",
       " (u'(SEH)', 5),\n",
       " (u'PAYROLL)', 3),\n",
       " (u'Hdqtrs)', 1),\n",
       " (u'(43927842)', 1),\n",
       " (u'WK)', 2),\n",
       " (u'1713)', 3),\n",
       " (u'Relevate', 1),\n",
       " (u'Development/Senior', 5),\n",
       " (u'BMW/Mini', 5),\n",
       " (u'II(422599)', 1),\n",
       " (u'Assistant\\u2013Home', 1),\n",
       " (u'944755', 1),\n",
       " (u'coastalWe', 1),\n",
       " (u'(Tall', 1),\n",
       " (u'Aero/Industrial', 1),\n",
       " (u'Positions-Sales', 1),\n",
       " (u\"L'Atelier\", 1),\n",
       " (u'MCMENAMINS', 1),\n",
       " (u'-Windom', 1),\n",
       " (u'Prvt', 1),\n",
       " (u'Selma,', 14),\n",
       " (u'FP-Food', 1),\n",
       " (u'Diecast', 2),\n",
       " (u'#4-347333-15797#', 1),\n",
       " (u'ORS.', 2),\n",
       " (u'Technologist-LEA/Civil', 1),\n",
       " (u'\"\"Top', 8),\n",
       " (u'www.cqch.org', 2),\n",
       " (u'PIcker', 1),\n",
       " (u'#4-344352-10309#', 1),\n",
       " (u'Bedsheets', 1),\n",
       " (u'J#020501LM', 1),\n",
       " (u'Later,', 1),\n",
       " (u'(50248930)', 1),\n",
       " (u'Materials/Chemical/Mechanical', 1),\n",
       " (u'(48784761)', 1),\n",
       " (u'(149670)', 1),\n",
       " (u'-Telehealth', 3),\n",
       " (u'Bausch', 4),\n",
       " (u'#4-339754-29336#', 1),\n",
       " (u'PG/Silver', 3),\n",
       " (u'9)', 26),\n",
       " (u'Bushwick', 6),\n",
       " (u'(43691640)', 1),\n",
       " (u'opportunityGrowing', 1),\n",
       " (u'19850', 2),\n",
       " (u'Specialist-H', 2),\n",
       " (u'(478901)', 1),\n",
       " (u'(5282416)', 1),\n",
       " (u'72160,', 1),\n",
       " (u'16-00279', 1),\n",
       " (u'W.A.L.K.A.P.A.L.A.', 2),\n",
       " (u'Programmer/Report', 1),\n",
       " (u'Nights/$5,000', 1),\n",
       " (u'#4-3509210#', 1),\n",
       " (u'#1034)', 1),\n",
       " (u'$100,000/Year+', 1),\n",
       " (u'Operator/Navigator', 1),\n",
       " (u'Employme', 1),\n",
       " (u'(SURGICARE-OR)', 1),\n",
       " (u'(CI,', 1),\n",
       " (u'Leadership/Assistant', 1),\n",
       " (u'3629', 1),\n",
       " (u'2442', 8),\n",
       " (u'#3652', 1),\n",
       " (u'Manager(428388)', 1),\n",
       " (u'SHIBA', 1),\n",
       " (u'Officer-Weekends-Day!', 1),\n",
       " (u'9895354', 1),\n",
       " (u'Rep(07184)', 1),\n",
       " (u'(Pool/Evenings)', 1),\n",
       " (u'Moberly,MO', 2),\n",
       " (u'Manager-Non-Profit', 1),\n",
       " (u'1025)', 3),\n",
       " (u'8114575', 1),\n",
       " (u'(1868)', 3),\n",
       " (u'Support/', 73),\n",
       " (u'Residue', 2),\n",
       " (u'131027', 1),\n",
       " (u'W/Local', 1),\n",
       " (u'(15001OB9)', 1),\n",
       " (u'(49355762)', 1),\n",
       " (u'#4-336841-2701#', 1),\n",
       " (u'12/30/2015The', 5),\n",
       " (u'Brylane', 1),\n",
       " (u'ZJW211KSGS.3', 1),\n",
       " (u'On-Call(435680)', 1),\n",
       " (u'1602491', 1),\n",
       " (u'janitoria', 2),\n",
       " (u'16000-15-001', 1),\n",
       " (u'LF', 6),\n",
       " (u'(#15/87M)', 1),\n",
       " (u'(Assoc/Full', 1),\n",
       " (u'PORTER/', 1),\n",
       " (u'(1423172)', 1),\n",
       " (u'Interns-Food', 1),\n",
       " (u'Administrator-Advanced', 1),\n",
       " (u'Scale-up', 2),\n",
       " (u'ASSOCIATES/ASSISTANT', 2),\n",
       " (u'Specialist\\u2013PRN', 1),\n",
       " (u'Biller-Patient', 1),\n",
       " (u'476-029', 1),\n",
       " (u'2965', 3),\n",
       " (u'009733', 6),\n",
       " (u'Records/Campus', 2),\n",
       " (u'1610045821)', 1),\n",
       " (u'12/10/2015', 1),\n",
       " (u'A', 23746),\n",
       " (u'360(416998)', 1),\n",
       " (u'(01115225)', 1),\n",
       " (u'#306902', 1),\n",
       " (u'#4-336731-69877#', 1),\n",
       " (u'642950)', 1),\n",
       " (u'Design/Controls', 2),\n",
       " (u'CAROLINA,', 1),\n",
       " (u'(01HEN)', 1),\n",
       " (u'#66779', 1),\n",
       " (u'158718', 1),\n",
       " (u'Dean-College', 4),\n",
       " (u'79001', 1),\n",
       " (u'??', 27),\n",
       " (u'(Loaders)', 1),\n",
       " (u'Consultant(406172)', 1),\n",
       " (u'Planner/Scheduler,', 5),\n",
       " (u'#4-327044-40459#', 1),\n",
       " (u'90170560', 1),\n",
       " (u'(35146949)', 1),\n",
       " (u'(2281)', 4),\n",
       " (u'OptumLabs', 2),\n",
       " (u'Toldedo', 1),\n",
       " (u'Server/Entity', 1),\n",
       " (u'Architect(Digital', 1),\n",
       " (u'(Waxahachie)', 21),\n",
       " (u'001320', 1),\n",
       " (u'215635', 1),\n",
       " (u'J#020305HC', 1),\n",
       " (u'(49458904)', 1),\n",
       " (u'/Vernon', 2),\n",
       " (u'WorkforceNow', 1),\n",
       " (u'COSMETOLOGIST,', 1),\n",
       " (u'JOS000018214', 1),\n",
       " (u'Care-Academic', 1),\n",
       " (u'(3rd/4th', 1),\n",
       " (u'Clerk6901', 1),\n",
       " (u'Railway/Roadway', 1),\n",
       " (u'HR:1624', 1),\n",
       " (u'(50281155)', 1),\n",
       " (u'Native,', 1),\n",
       " (u'openingsno', 2),\n",
       " (u'(Sushi', 1),\n",
       " (u'Irrigation/Lighting', 1),\n",
       " (u'Wirers', 1),\n",
       " (u'PS321', 1),\n",
       " (u'(100721)', 1),\n",
       " (u'Life/Disability', 1),\n",
       " (u'Emergency/Trauma', 1),\n",
       " (u'#148234', 1),\n",
       " (u'6A-12', 1),\n",
       " (u'CarQuest', 2),\n",
       " (u'SECA', 1),\n",
       " (u'(44391363)', 1),\n",
       " (u'NORESCO)', 1),\n",
       " (u'MARLOWE', 5),\n",
       " (u'Manager/Apparel', 1),\n",
       " (u'Machin', 2),\n",
       " (u'(569445)', 1),\n",
       " (u'1606778', 1),\n",
       " (u',PRN)', 1),\n",
       " (u'(10514530671-789)', 1),\n",
       " (u'90073683', 1),\n",
       " (u'Driver(03469)', 1),\n",
       " (u'Clerk-Gannett', 2),\n",
       " (u'#1457:', 1),\n",
       " (u'Burwell', 1),\n",
       " (u'Developer(Video', 1),\n",
       " (u'Satellite/TV', 1),\n",
       " (u'5127-1015-20825', 1),\n",
       " (u'Enochsburg', 1),\n",
       " (u'($90-130', 1),\n",
       " (u'#4-343314-7367#', 1),\n",
       " (u'Supv/Patient', 1),\n",
       " (u'Assistant/Dell', 2),\n",
       " (u'Supervisor!', 2),\n",
       " (u'(LPN)-Certified', 1),\n",
       " (u'Consultant(Senior', 1),\n",
       " (u'Mgr-Restaurant', 1),\n",
       " (u'#4-353233-73726#', 1),\n",
       " (u'Transplant/Gen', 1),\n",
       " (u'#4-351209-12201#', 1),\n",
       " (u'Representative-Herricks', 1),\n",
       " (u'(435278)', 1),\n",
       " (u'01110', 1),\n",
       " (u'Shifts),', 1),\n",
       " (u'Pants/Denim/Shorts', 1),\n",
       " (u'Val/Ver', 1),\n",
       " (u'(06437-64364)', 1),\n",
       " (u'Optometrist-Fort', 3),\n",
       " (u'Attendant-Coffee', 1),\n",
       " (u'based!!', 1),\n",
       " (u'-(Auto)', 1),\n",
       " (u'Coordinator/Junior', 4),\n",
       " (u'Hemodiallysis', 1),\n",
       " (u'(479946)', 1),\n",
       " (u'(49957739)', 1),\n",
       " (u'HOTEL/HOSPITALITY', 1),\n",
       " (u'(Wedding', 3),\n",
       " (u'(49945466)', 1),\n",
       " (u'#4-115464-29806#', 1),\n",
       " (u'9895251', 1),\n",
       " (u'jop', 1),\n",
       " (u'DATACOM', 1),\n",
       " (u'1029461', 1),\n",
       " (u'(109883)', 1),\n",
       " (u'(QA&Process)', 1),\n",
       " (u'Williamsburg/Hampton', 1),\n",
       " (u'OCL/PACU', 1),\n",
       " (u'#9298', 1),\n",
       " (u'Associate/Manager/Director,', 1),\n",
       " (u'/Logistics/Customer', 2),\n",
       " (u'#4-327143-12803#', 2),\n",
       " (u'Security/Boise,', 1),\n",
       " (u'Change-Lead', 3),\n",
       " (u'K&BA', 1),\n",
       " (u'1606987', 1),\n",
       " (u'(16-02197)', 1),\n",
       " (u'-6P', 1),\n",
       " (u'#1193)', 1),\n",
       " (u'WALK-INS', 3),\n",
       " (u'(100354)', 1),\n",
       " (u'Feb-ongoing-', 1),\n",
       " (u'(SPCU', 1),\n",
       " (u'QA/IC', 1),\n",
       " (u'(3942-376)', 1),\n",
       " (u'22478', 1),\n",
       " (u'Pontchartrain', 4),\n",
       " (u'AIRCREW', 1),\n",
       " (u'(SN)', 1),\n",
       " (u'(MarComm', 1),\n",
       " (u'SSgt/E5,', 1),\n",
       " (u'IL(Medical', 2),\n",
       " (u'BAPTIST-PRN-NIGHTS', 1),\n",
       " (u'Teacher\\u2013Hearing', 1),\n",
       " (u'Engineer/SPI', 1),\n",
       " (u'(866256)', 1),\n",
       " (u'Specialist/Principal', 2),\n",
       " (u'#4-355699-36604#', 1),\n",
       " (u'audit)', 1),\n",
       " (u'technical)', 2),\n",
       " (u'(Title)', 1),\n",
       " (u'Manager-Instaloan', 2),\n",
       " (u'\"\"Hunter\"\"...\"', 1),\n",
       " (u'Developer(IOS)', 1),\n",
       " (u'Angular.JS,', 7),\n",
       " (u'1600765', 1),\n",
       " (u'(01124416)', 1),\n",
       " (u'Systech', 1),\n",
       " (u'Nights-36', 2),\n",
       " (u'SEW', 5),\n",
       " (u'Services(20151013-3559)', 1),\n",
       " (u'1603579', 1),\n",
       " (u'VBMC', 3),\n",
       " (u'GS-Sr.', 1),\n",
       " (u'Supervisor/Behavior', 1),\n",
       " (u'Center(433059)', 1),\n",
       " (u'[UT-10-23-04-07]', 1),\n",
       " (u'12240', 3),\n",
       " (u'Low-Latency', 1),\n",
       " (u'1602594', 1),\n",
       " (u'Assistants-New', 1),\n",
       " (u'PromotionsMarch', 1),\n",
       " (u'DoJ', 1),\n",
       " (u'SCALE-UP', 1),\n",
       " (u'Representative-Higher', 1),\n",
       " (u'#4-341874-14428#', 1),\n",
       " (u'Trainer/PRN/Flat', 1),\n",
       " (u'(L3285)', 1),\n",
       " (u'VPN,', 7),\n",
       " (u'(15001T9S)', 1),\n",
       " (u'#4-337751-74100#', 1),\n",
       " (u'Hearing-Ellenville,', 1),\n",
       " (u'1512068', 1),\n",
       " (u'Meal.', 1),\n",
       " (u'appliances?', 1),\n",
       " (u'Gatstroenterologist', 1),\n",
       " (u'#9720', 1),\n",
       " (u'Qe/Func', 1),\n",
       " (u'Specialists:', 4),\n",
       " (u'-Edgewood', 2),\n",
       " (u'(#10-13c)', 1),\n",
       " (u'Verication', 3),\n",
       " (u'CERDEC', 2),\n",
       " (u'yrs,', 4),\n",
       " (u'Metrics-', 1),\n",
       " (u'945936', 1),\n",
       " (u'1028967', 1),\n",
       " (u'Universities', 6),\n",
       " (u'(1600039H)', 1),\n",
       " (u'(48231270)', 1),\n",
       " (u'(Journeyman)/WPAFB', 4),\n",
       " (u'Rep(07193)', 1),\n",
       " (u'CPS,', 1),\n",
       " (u'Swi', 1),\n",
       " (u'(2911-630)', 1),\n",
       " (u'(Teaching', 4),\n",
       " (u'AVODAH:', 1),\n",
       " (u'Plantation/Sunrise', 1),\n",
       " (u'Consultant-Pioneer', 1),\n",
       " (u'positionPostion', 1),\n",
       " (u'$72-75K', 1),\n",
       " (u'-BRH624Spray.4', 1),\n",
       " (u'Servers(19595)', 1),\n",
       " (u'(48950238)', 1),\n",
       " (u'Expert(04044)', 1),\n",
       " (u'Computol,', 1),\n",
       " (u'(479861)', 1),\n",
       " (u'Website', 435),\n",
       " (u'(14-FFX-43)', 1),\n",
       " (u'(Kingwood,', 1),\n",
       " (u'(50172817)', 1),\n",
       " (u'J#012605JY', 1),\n",
       " (u'Usmfr', 1),\n",
       " (u'#4-354877-73831#', 1),\n",
       " (u'$80,000/YEAR!', 1),\n",
       " (u'(50060707)', 1),\n",
       " (u'Developer(AWS)', 1),\n",
       " (u'Mapleshade', 3),\n",
       " (u'RR00007748', 1),\n",
       " (u'(44329706)', 1),\n",
       " (u'Assistant-1567920', 1),\n",
       " (u'Ave-NYC', 1),\n",
       " (u'Fuguay-Varina', 3),\n",
       " (u'(180079)', 1),\n",
       " (u'Medicine&Rehab', 2),\n",
       " (u'(15001G6M)', 1),\n",
       " (u'(#6054)', 1),\n",
       " (u'Manager-Great', 5),\n",
       " (u'Soa', 47),\n",
       " (u'MSGThis', 1),\n",
       " (u'Build-Deployment', 1),\n",
       " (u'RR00001210', 1),\n",
       " (u'#4-347751-23284#', 1),\n",
       " (u'Taxonimist', 1),\n",
       " (u'LFE', 2),\n",
       " (u'Infrastructure/Provisioning', 1),\n",
       " (u'1604840', 1),\n",
       " (u'Applicat', 1),\n",
       " (u'2077m', 1),\n",
       " (u'w/CALL', 1),\n",
       " (u'Northampton,', 16),\n",
       " (u'24hours', 1),\n",
       " (u'Production/Assistant', 1),\n",
       " (u'2275', 2),\n",
       " (u'Lts', 9),\n",
       " (u'Beautiful', 1443),\n",
       " (u'(7448)', 1),\n",
       " (u'5:30', 63),\n",
       " (u'Neuro/Special', 1),\n",
       " (u'instalaci\\xf3n', 1),\n",
       " (u'Services-Patient', 1),\n",
       " (u'(RTS)-NY', 1),\n",
       " (u'94066', 1),\n",
       " (u'3pm.baby', 1),\n",
       " (u'/NP/', 2),\n",
       " (u'1604884', 1),\n",
       " (u'profitable', 13),\n",
       " (u'Attsco', 1),\n",
       " (u'(3804)', 1),\n",
       " (u'-Alternating', 1),\n",
       " (u'Associate(Antibody', 1),\n",
       " (u'JOB-2240900', 1),\n",
       " (u'Eileen', 1),\n",
       " (u'(102558)', 1),\n",
       " (u'(160002OW)', 2),\n",
       " (u'IMA', 4),\n",
       " (u'I(358605)', 1),\n",
       " (u'18862)', 1),\n",
       " (u'PACU/DSU', 4),\n",
       " (u'scripting/', 2),\n",
       " (u'(48504042)', 1),\n",
       " (u'Yr/O,', 1),\n",
       " (u'Ldr/Ops', 2),\n",
       " (u'Oncology-Porter', 1),\n",
       " (u'96424', 2),\n",
       " (u'Consultant||&||', 2),\n",
       " (u'(48745663)', 1),\n",
       " (u'(2016-2101)', 1),\n",
       " (u'(103764)', 2),\n",
       " (u'(Pharmacokinetics)-', 2),\n",
       " (u'(00009-65757)', 1),\n",
       " (u'(481040)', 1),\n",
       " (u'(203282)', 6),\n",
       " (u'(97550)', 1),\n",
       " (u'(02660)', 2),\n",
       " (u'6006', 17),\n",
       " (u'#4-349784-51425#', 1),\n",
       " (u'15-SPAR:187', 1),\n",
       " (u'manger', 8),\n",
       " (u'Engineers(', 1),\n",
       " (u'-Door', 1),\n",
       " (u'#12196)', 1),\n",
       " (u'KATAHDIN', 1),\n",
       " (u'#4-331266-42342#', 1),\n",
       " (u'Georgia---Now', 1),\n",
       " (u'Marvell', 2),\n",
       " (u'(16-02056)', 1),\n",
       " (u'INSTALLATIONSUnit\\xe9', 1),\n",
       " (u'#4-276056-15224#', 1),\n",
       " (u'Timely', 14),\n",
       " (u'Nursemanager', 1),\n",
       " (u'(94869)', 1),\n",
       " (u'(2015022)', 1),\n",
       " (u'Shooter,', 1),\n",
       " (u'Eyegroove', 1),\n",
       " (u'Pulmozyme,', 1),\n",
       " (u'Once/day', 1),\n",
       " (u'Mid-Shift-', 1),\n",
       " (u'Cash/Revenue', 1),\n",
       " (u'(6021)', 3),\n",
       " (u'#HJN-181136-2', 1),\n",
       " (u'(116344)', 2),\n",
       " (u'(48870796)', 1),\n",
       " (u'(01K4V)', 1),\n",
       " (u'Dispenser(444106)', 1),\n",
       " (u'(137873)', 1),\n",
       " (u'#15-57', 1),\n",
       " (u'#4-355676-23096#', 1),\n",
       " (u'BARIATRICS', 7),\n",
       " (u'FaceTime', 2),\n",
       " (u'Manager/Resident', 23),\n",
       " (u'(181869)', 1),\n",
       " (u'3112853', 1),\n",
       " (u'Fermentation/Control', 1),\n",
       " (u'(#5820)', 1),\n",
       " (u'OPMED', 1),\n",
       " (u'impaired:', 1),\n",
       " (u'NURSEY/PEDIATRICS-', 1),\n",
       " (u'1043)', 1),\n",
       " (u'FTR022016', 2),\n",
       " (u'1605968', 1),\n",
       " (u'Rockies,', 3),\n",
       " (u'Meteorology,', 1),\n",
       " (u'CLINICIAN/ASSOCIATE', 1),\n",
       " (u'Desktop/Field', 4),\n",
       " (u'P61012940', 1),\n",
       " (u'025920', 6),\n",
       " (u'Center/Wylie', 1),\n",
       " (u'5:45', 6),\n",
       " (u'Houston:', 14),\n",
       " (u'Intern-S0480', 1),\n",
       " (u'CASHIER/HOST', 6),\n",
       " (u'$865.00', 1),\n",
       " (u'(Node.js/MongoDB)', 1),\n",
       " (u'437371-Desktop', 1),\n",
       " (u'#HJN-154609-1', 1),\n",
       " (u'(43979416)', 1),\n",
       " (u'3/19/13', 1),\n",
       " (u'(VDI,', 1),\n",
       " (u'AP:', 1),\n",
       " (u'#4-219999-15940#', 1),\n",
       " (u'$12/hr-$15/hr.', 1),\n",
       " (u'I5I', 1),\n",
       " (u'Pathologist/Prn', 2),\n",
       " (u'025612', 5),\n",
       " (u'PSYCHIATRIST,', 53),\n",
       " (u')(428500)', 1),\n",
       " (u'(601811)', 7),\n",
       " (u'J718067', 4),\n",
       " (u'door-to-door,', 1),\n",
       " (u'CA-Advanced', 1),\n",
       " (u'Net/', 1),\n",
       " (u'Economist/Industry', 2),\n",
       " (u'2WA,2WB,2WC', 2),\n",
       " (u'Person/Utility', 2),\n",
       " (u'(567582)', 1),\n",
       " (u'$125k-$150k', 4),\n",
       " (u'JOB-2235566', 1),\n",
       " (u'(49853839)', 1),\n",
       " (u'CCLC\\xe2??', 1),\n",
       " (u'(114324)', 1),\n",
       " (u'(BSS)', 8),\n",
       " (u'181-03', 1),\n",
       " (u'5Q/Full-time', 1),\n",
       " (u'51032', 2),\n",
       " (u'(Office/Field)', 1),\n",
       " (u'Sewer/Sewing', 1),\n",
       " (u'(8:18', 1),\n",
       " (u'Engineering-Maintenance', 1),\n",
       " (u'ValleyRehab-', 1),\n",
       " (u'\"\"Boston\"\"\"', 2),\n",
       " (u'(Many)', 1),\n",
       " (u'8AM-4:30PM,', 1),\n",
       " (u'Worth/Denton/Saginaw', 1),\n",
       " (u'301:', 1),\n",
       " (u'(Illumination', 1),\n",
       " (u'WomanCare', 1),\n",
       " (u'(15005592)', 1),\n",
       " (u'(7,500', 1),\n",
       " (u'Faculty-TC', 1),\n",
       " (u'(478109)', 1),\n",
       " (u'4189', 2),\n",
       " (u'TEKLA', 3),\n",
       " (u'Server|', 2),\n",
       " (u'Denitst', 1),\n",
       " (u'Easy..', 1),\n",
       " (u'58992', 1),\n",
       " (u'Machinists/Millwrights/IE', 1),\n",
       " (u'688378BR', 1),\n",
       " (u'0000042853', 1),\n",
       " (u'(106217)', 1),\n",
       " (u'Slenium', 1),\n",
       " (u'(574476)', 1),\n",
       " (u'Taper/Texturing', 1),\n",
       " (u'Days/Shifts', 8),\n",
       " (u'BVLGARI', 1),\n",
       " (u'Manager-Germain', 5),\n",
       " (u'2016-27971', 1),\n",
       " (u'(ERP-Location', 1),\n",
       " (u'(Hayward/Sa', 1),\n",
       " (u'CNAs/Caregivers', 3),\n",
       " (u'w/Quality', 1),\n",
       " (u'Custodian/Grounds/Maintenance', 1),\n",
       " (u'Beekeeper/Wood', 1),\n",
       " (u'Agency/LPN', 1),\n",
       " (u'$85k-$110k', 2),\n",
       " (u'PLAZA,', 4),\n",
       " (u'PAYROLL/HRIS', 1),\n",
       " (u'403(b)', 5),\n",
       " (u'(94890)', 1),\n",
       " (u'5-Design', 1),\n",
       " (u'Educator/QAPI', 1),\n",
       " (u'SP/EN', 1),\n",
       " (u'Bahrain', 3),\n",
       " (u'L&', 8),\n",
       " (u'008433', 6),\n",
       " (u'JFK', 94),\n",
       " (u'132606', 1),\n",
       " (u'Deportation', 6),\n",
       " (u'05/02/16', 5),\n",
       " (u'International/General', 1),\n",
       " (u'Specialist(425012)', 1),\n",
       " (u'DISHWASHERS-', 2),\n",
       " (u'743198', 1),\n",
       " (u'Events/Wedding', 1),\n",
       " (u'(3-Day)', 1),\n",
       " (u'(49359054)', 1),\n",
       " (u'(Bushnell', 4),\n",
       " (u'870(439445)', 1),\n",
       " (u'Assistant-Limited', 1),\n",
       " (u'Representives', 1),\n",
       " (u'Assistant/Source', 1),\n",
       " (u'immersion)', 1),\n",
       " (u'RN(8146)', 1),\n",
       " (u'10182114', 1),\n",
       " (u'443942', 1),\n",
       " (u'(49950132)', 1),\n",
       " (u'(106221-2)', 1),\n",
       " (u'casual/Counter', 1),\n",
       " (u'(Libbie', 2),\n",
       " (u'1Owego', 1),\n",
       " (u'#4-195115-16603#', 1),\n",
       " (u'Erno', 2),\n",
       " (u'b>PULMONARY', 1),\n",
       " (u'-Palmetto', 2),\n",
       " (u'Firefighter/Inspector', 1),\n",
       " (u'4/4.5,', 1),\n",
       " (u'Specialist/Pharmacologist', 1),\n",
       " (u'$18.08/Hr.', 1),\n",
       " (u'Representatitve', 9),\n",
       " (u'Mbsp', 1),\n",
       " (u\"Patients'\", 1),\n",
       " (u'Cardioplumonary', 3),\n",
       " (u'II-Dist', 1),\n",
       " (u'Excepted', 7),\n",
       " (u'Gymnastics/Cheer', 1),\n",
       " (u'RSL', 4),\n",
       " (u'Loader/Order', 1),\n",
       " (u'Cat/Dog', 1),\n",
       " (u'#4-335032-45654#', 1),\n",
       " (u'Projects(417481)', 1),\n",
       " (u'RehabDepartment:', 2),\n",
       " (u'943624', 1),\n",
       " (u'Cashier/Office', 1),\n",
       " (u'64797', 1),\n",
       " (u'????????', 1),\n",
       " (u'Foundational)', 1),\n",
       " (u'1600071', 1),\n",
       " (u'(568213)', 1),\n",
       " (u'Websphere/Middleware', 1),\n",
       " (u'157870', 1),\n",
       " (u'RN-Clinic!', 1),\n",
       " (u'SUB-ACUTE', 2),\n",
       " (u'premier,', 1),\n",
       " (u'(33792517)', 1),\n",
       " (u'(01127039)', 1),\n",
       " (u'ShuttleDriver', 1),\n",
       " (u'BAGGED', 1),\n",
       " (u'(FY', 3),\n",
       " (u'Dry', 1297),\n",
       " (u'project.....NYC', 1),\n",
       " (u'Closer', 437),\n",
       " (u'TechnoIogist', 4),\n",
       " (u'(43571849)', 1),\n",
       " (u'Airport/Orange', 2),\n",
       " (u'Pre-Hung', 2),\n",
       " (u'JOB-2258800', 1),\n",
       " (u'(36926456)', 1),\n",
       " (u'Key/Data', 1),\n",
       " (u'Outbound-', 1),\n",
       " (u'3580', 6),\n",
       " (u'Charcuterie', 5),\n",
       " (u'(117668)', 1),\n",
       " (u'Cls/Clinical', 1),\n",
       " (u'016250', 1),\n",
       " (u'159313', 1),\n",
       " (u'38989/38990', 1),\n",
       " (u'Resources/Talent', 1),\n",
       " (u'Olli', 1),\n",
       " (u'PulmonologistsPhiladelphia', 1),\n",
       " (u'(17789)', 1),\n",
       " (u'JOB-2243365', 2),\n",
       " (u'#4-297153-40933#', 1),\n",
       " (u'Spirits.', 2),\n",
       " (u'#4-320401-88550#', 1),\n",
       " (u'Buyer/Engineering', 1),\n",
       " (u'(SHMG)', 14),\n",
       " (u'XACMAL', 1),\n",
       " (u'Chasier', 1),\n",
       " (u'#4-354254-92529#', 1),\n",
       " (u'02317757', 1),\n",
       " (u'(Retal', 1),\n",
       " (u'RN/Cardiac', 5),\n",
       " (u'FIRM!!', 1),\n",
       " (u'#4-347137-21510#', 1),\n",
       " (u'(10514532876-759)', 1),\n",
       " (u'Tomato', 4),\n",
       " (u'Wrentham', 27),\n",
       " (u'CALCULUS', 1),\n",
       " (u'Running/Athletic', 1),\n",
       " (u'(#5745)', 1),\n",
       " (u'(49766360)', 1),\n",
       " (u'Medicine/Occupational', 2),\n",
       " (u'12.6.15', 1),\n",
       " (u'(newborn,3yr,8yr)', 1),\n",
       " (u'Technician-Delivery', 1),\n",
       " (u'UCOR,', 1),\n",
       " (u'(FCOI)', 2),\n",
       " (u'479002)', 1),\n",
       " (u'Sun:', 3),\n",
       " (u'SpecialistDirect', 1),\n",
       " (u'(Cat)', 1),\n",
       " (u'Shave', 4),\n",
       " (u'(PSO)-National', 2),\n",
       " (u'ZT-0404-III', 1),\n",
       " (u'Media/Graphic', 4),\n",
       " (u'Structures/Avionics/A&P', 1),\n",
       " (u'(06437-60939)', 1),\n",
       " (u'Representative-MDU-Pinellas', 1),\n",
       " (u'U4B', 1),\n",
       " (u'MphasiS/', 3),\n",
       " (u'-Jd', 1),\n",
       " (u'(43786746)', 1),\n",
       " (u'$800/wk+', 3),\n",
       " (u'Tobey', 1),\n",
       " (u'(102424)', 1),\n",
       " (u'2778', 4),\n",
       " (u'ATTScripting', 1),\n",
       " (u'Tech-PRN-Night', 3),\n",
       " (u'Webmethod', 3),\n",
       " (u'Center/Receptionist', 1),\n",
       " (u'(866186)', 1),\n",
       " (u'(Economics', 1),\n",
       " (u'(9086-124)', 1),\n",
       " (u'Documaker', 11),\n",
       " (u'BIO-Shift', 1),\n",
       " (u'Services-15001885', 1),\n",
       " (u\"PRN-Children's\", 1),\n",
       " (u'0001583387-01)', 1),\n",
       " (u'14189)', 1),\n",
       " (u'Quick-Serve', 1),\n",
       " (u'P00049UF', 1),\n",
       " (u'Troubleman-FS', 1),\n",
       " (u'(48576115)', 1),\n",
       " (u'2013-104106', 1),\n",
       " (u'Engineer-3000-16-03', 1),\n",
       " (u'(Diabetes/Cardio)', 2),\n",
       " (u'Group/Menasha', 2),\n",
       " (u'(531659)', 1),\n",
       " (u'Preserve', 43),\n",
       " (u'Location-Mission', 1),\n",
       " (u'420(404000)', 1),\n",
       " (u'Roamer', 1),\n",
       " (u'(01135461)', 1),\n",
       " (u'1593540', 1),\n",
       " (u'DIR\\u2013PHS', 2),\n",
       " (u'Happens', 3),\n",
       " (u'(570555)', 1),\n",
       " (u'4044', 2),\n",
       " (u'Cyclist', 8),\n",
       " (u'(Cosmetologist', 1),\n",
       " (u'38877', 1),\n",
       " (u'Specialist/Biller/Accounting', 1),\n",
       " (u'0.8FTE,', 1),\n",
       " (u'51-1', 2),\n",
       " (u'Procedures)', 11),\n",
       " (u'(49737173)', 1),\n",
       " (u'Owca-Medical', 1),\n",
       " (u'23891', 1),\n",
       " (u'Sassc', 1),\n",
       " (u'3258)', 1),\n",
       " (u'Ssalesforce.com', 1),\n",
       " (u'19061', 1),\n",
       " (u'14.5', 1),\n",
       " (u'Specialist1.IMS', 4),\n",
       " (u'Hdw', 1),\n",
       " (u'(48504279)', 1),\n",
       " (u'(49409601)', 1),\n",
       " (u'IFS0003', 1),\n",
       " (u'(569939)', 1),\n",
       " (u'Coordinator-Part', 11),\n",
       " (u'9p-7a,10p-8a,', 1),\n",
       " (u'Safety/Security', 14),\n",
       " (u'(43064497)', 1),\n",
       " (u'Screwman', 1),\n",
       " (u'yrs-SLO', 1),\n",
       " (u'(102572)', 1),\n",
       " (u'GER00855', 1),\n",
       " (u'Qa/inspector', 1),\n",
       " (u'(103221)', 1),\n",
       " (u'(10514532735-1214)', 1),\n",
       " (u'Ecg', 1),\n",
       " (u'Holder/CSTL', 1),\n",
       " (u'(49573203)', 1),\n",
       " (u'(601091)', 6),\n",
       " (u'Exec,', 78),\n",
       " (u'(480340)', 1),\n",
       " (u'[Wyckoff]', 1),\n",
       " (u'Downtown!', 23),\n",
       " (u'Manager/Domains', 1),\n",
       " (u'Jouralist', 1),\n",
       " (u'(#2', 2),\n",
       " (u'Compliance--Work', 1),\n",
       " (u'$4000-$5000+/WK-Coil', 1),\n",
       " (u'#HJN-189359-1', 1),\n",
       " (u'Eoc', 1),\n",
       " (u'PJM', 3),\n",
       " (u'(01144843)', 1),\n",
       " (u'Oncology/Medicine', 2),\n",
       " (u'(160008QK)', 1),\n",
       " (u'#4-346689-37477#', 1),\n",
       " (u'(61472)', 1),\n",
       " (u'BONUS!-1525646', 1),\n",
       " (u'Chowan', 3),\n",
       " (u'9895277', 1),\n",
       " (u'AAME', 1),\n",
       " (u'Higley', 20),\n",
       " (u'Junior/Desktop', 1),\n",
       " (u'Therapy-Methodist', 1),\n",
       " (u'945293', 1),\n",
       " (u'Sign-On/SSO', 1),\n",
       " (u'(539501)', 1),\n",
       " (u'(24x7)', 2),\n",
       " (u'NP/PAOutpatient', 2),\n",
       " (u'Walk-ins', 3),\n",
       " (u'(94843)', 1),\n",
       " (u'Psychology(423689)', 1),\n",
       " (u'(Photographer', 1),\n",
       " (u'(16-00968)', 1),\n",
       " (u'025519', 5),\n",
       " (u'Clerk-Medical', 2),\n",
       " (u'Encampment', 1),\n",
       " (u'Concesions', 1),\n",
       " (u'(4722C)', 4),\n",
       " (u'Technology-A', 1),\n",
       " (u'Baltimore/', 1),\n",
       " (u'Bonus,MHM', 4),\n",
       " (u'Marvel,', 2),\n",
       " (u'Designer(', 2),\n",
       " (u'(49666406)', 1),\n",
       " (u'(44360419)', 1),\n",
       " (u'(RIA)', 2),\n",
       " (u'CIO-FT', 1),\n",
       " (u'1500782', 1),\n",
       " (u'(1558)', 1),\n",
       " (u'Javascript-Flex', 1),\n",
       " (u'Associate/Collington', 1),\n",
       " (u'(DCA', 3),\n",
       " (u'1069)', 1),\n",
       " (u'(182334)', 1),\n",
       " (u'Biomimicry', 1),\n",
       " (u'Manager/Growing', 1),\n",
       " (u'1507321', 1),\n",
       " (u'RNCancer', 1),\n",
       " (u'Employee-Building', 4),\n",
       " (u'Nursing(430865)', 1),\n",
       " (u'WCC7', 2),\n",
       " (u'(MCP)', 3),\n",
       " (u'(50211293)', 1),\n",
       " (u'iExpenseTechno', 1),\n",
       " (u'(BARSTOW', 1),\n",
       " (u'Corporal', 17),\n",
       " (u'Driver(05849)', 1),\n",
       " (u'CONTINUITY', 5),\n",
       " (u'1-9', 4),\n",
       " (u'/Edison', 2),\n",
       " (u'Coordinator/C.I.A.', 1),\n",
       " (u'13662,', 1),\n",
       " (u'Wireframes/Prototypes', 1),\n",
       " (u'time)-Entry', 1),\n",
       " (u'30016374', 1),\n",
       " (u'J#020105LM', 1),\n",
       " (u'CSS3)', 8),\n",
       " (u'Honored!', 4),\n",
       " (u'Ir&Si', 1),\n",
       " (u'Nurse-LPN,', 4),\n",
       " (u'Auidit', 1),\n",
       " (u'Attendant-Nissan', 1),\n",
       " (u'28630)', 1),\n",
       " (u'?Central/Southern', 1),\n",
       " (u'teh', 1),\n",
       " (u'REQ06910', 1),\n",
       " (u'JOB-2238994', 1),\n",
       " (u'Management/Nutrition', 1),\n",
       " (u'D479', 1),\n",
       " (u'BBO', 1),\n",
       " (u'PreOp-PACU', 1),\n",
       " (u'Designer/Educator', 1),\n",
       " (u'excepted', 1),\n",
       " (u'Manager(01546)', 2),\n",
       " (u'(9x/10x)', 1),\n",
       " (u'Manager/Institutional', 1),\n",
       " (u'SPECIALIST-PERFORMANCE', 1),\n",
       " (u'OAK!!', 2),\n",
       " (u'Assistants-Bucks', 2),\n",
       " (u'(44687510)', 1),\n",
       " (u'KWA', 1),\n",
       " (u'Analyst-Sunnyvale,', 2),\n",
       " (u'47682', 1),\n",
       " (u'Orlando/Maitland', 1),\n",
       " (u'Rrt,', 3),\n",
       " (u'(49451792)', 1),\n",
       " (u'XRM', 7),\n",
       " (u'Tyger', 6),\n",
       " (u'St...5919', 1),\n",
       " (u'req1651', 1),\n",
       " (u'NDTLevel', 1),\n",
       " (u'(01533-62739)', 1),\n",
       " (u'Operators:$5k', 1),\n",
       " (u'Home2', 7),\n",
       " (u'Main/Pre-Op', 1),\n",
       " (u'Lenox/Joliet', 1),\n",
       " (u'(15N2016INTERN2)', 1)]"
      ]
     },
     "execution_count": 87,
     "metadata": {},
     "output_type": "execute_result"
    }
   ],
   "source": [
    "wc.cache()\n",
    "wc.take(1000)"
   ]
  },
  {
   "cell_type": "markdown",
   "metadata": {},
   "source": [
    "### Sort by value"
   ]
  },
  {
   "cell_type": "code",
   "execution_count": 88,
   "metadata": {
    "collapsed": true
   },
   "outputs": [],
   "source": [
    "wc_sort_value = wc.sortBy(lambda x: x[1], ascending=False)"
   ]
  },
  {
   "cell_type": "code",
   "execution_count": 89,
   "metadata": {
    "collapsed": false,
    "scrolled": true
   },
   "outputs": [
    {
     "data": {
      "text/plain": [
       "[(u'-', 961245),\n",
       " (u'/', 301399),\n",
       " (u'Manager', 190621),\n",
       " (u'Job', 133603),\n",
       " (u'Nurse', 131539),\n",
       " (u'Assistant', 105133),\n",
       " (u'in', 105031),\n",
       " (u'and', 102460),\n",
       " (u'&', 98848),\n",
       " (u'Engineer', 98506),\n",
       " (u'Sales', 97157),\n",
       " (u'Senior', 82771),\n",
       " (u'Physician', 80488),\n",
       " (u'Specialist', 79270),\n",
       " (u'RN', 74578),\n",
       " (u'Analyst', 71129),\n",
       " (u'Registered', 68703),\n",
       " (u'Service', 68492),\n",
       " (u'Time', 67202),\n",
       " (u'Care', 63465),\n",
       " (u'Associate', 62310),\n",
       " (u'of', 58753),\n",
       " (u'Technician', 57708),\n",
       " (u'\\u2013', 56491),\n",
       " (u'for', 55906),\n",
       " (u'Director', 48079),\n",
       " (u'Full', 47684),\n",
       " (u'Developer', 47449),\n",
       " (u'Medical', 46857),\n",
       " (u'Therapist', 46295),\n",
       " (u'Shift', 46215),\n",
       " (u'Services', 44742),\n",
       " (u'School', 44578),\n",
       " (u'Management', 41938),\n",
       " (u'Business', 41764),\n",
       " (u'Center', 41211),\n",
       " (u'Coordinator', 40805),\n",
       " (u'Medicine', 39992),\n",
       " (u'Health', 39699),\n",
       " (u'Lead', 38750),\n",
       " (u'Part', 38381),\n",
       " (u'Security', 37334),\n",
       " (u'Support', 37308),\n",
       " (u'Driver', 36736),\n",
       " (u'Project', 36735),\n",
       " (u'II', 35444),\n",
       " (u'Permanent', 34828),\n",
       " (u'Travel', 34312),\n",
       " (u'Customer', 34246),\n",
       " (u'Team', 34130),\n",
       " (u'with', 33682),\n",
       " (u'Software', 33339),\n",
       " (u'Representative', 32859),\n",
       " (u'Family', 32804),\n",
       " (u'Clinical', 31211),\n",
       " (u'Sr.', 30992),\n",
       " (u'I', 30985),\n",
       " (u'or', 30836),\n",
       " (u'Systems', 30794),\n",
       " (u'Supervisor', 30213),\n",
       " (u'Development', 29975),\n",
       " (u'Operations', 29817),\n",
       " (u'Consultant', 29702),\n",
       " (u'Program', 29410),\n",
       " (u'Nursing', 29005),\n",
       " (u'to', 28573),\n",
       " (u'Marketing', 28119),\n",
       " (u'Retail', 27745),\n",
       " (u'needed', 27590),\n",
       " (u'Manager,', 27485),\n",
       " (u'Needed', 27265),\n",
       " (u'General', 27156),\n",
       " (u'Truck', 27033),\n",
       " (u'Practice', 26252),\n",
       " (u'Teacher', 25341),\n",
       " (u'Home', 25150),\n",
       " (u'Account', 24659),\n",
       " (u'Data', 24176),\n",
       " (u'Physical', 24036),\n",
       " (u'A', 23746),\n",
       " (u'New', 23741),\n",
       " (u'Pizza', 23542),\n",
       " (u'Speech', 23072),\n",
       " (u'Tech', 22351),\n",
       " (u'Hut', 22325),\n",
       " (u'Restaurant', 22091),\n",
       " (u'Intern', 22063),\n",
       " (u'Locum', 21542),\n",
       " (u'Crew', 21498),\n",
       " (u'2', 20991),\n",
       " (u'FT', 20734),\n",
       " (u'Opportunity', 20683),\n",
       " (u'Level', 20647),\n",
       " (u'Emergency', 20575),\n",
       " (u'Certified', 20554),\n",
       " (u'Technical', 20506),\n",
       " (u'Language', 19723),\n",
       " (u'Store', 19682),\n",
       " (u'PRN', 19465),\n",
       " (u'Maintenance', 19445)]"
      ]
     },
     "execution_count": 89,
     "metadata": {},
     "output_type": "execute_result"
    }
   ],
   "source": [
    "wc_sort_value.take(100)"
   ]
  },
  {
   "cell_type": "code",
   "execution_count": 90,
   "metadata": {
    "collapsed": true
   },
   "outputs": [],
   "source": [
    "rdd_hdfs = sc.textFile('hdfs://localhost:9000/user/haroon/clean_jobs_feed.tsv', minPartitions=32)"
   ]
  },
  {
   "cell_type": "code",
   "execution_count": 91,
   "metadata": {
    "collapsed": true
   },
   "outputs": [],
   "source": [
    "word_count1 = (rdd_hdfs.map(lambda x: x.lower())\n",
    "            .flatMap(lambda x: x.split())\n",
    "            .map(lambda x: (x, 1))\n",
    "            .reduceByKey(lambda a, b: a + b)\n",
    "            .sortBy(lambda x: x[1], ascending=False)\n",
    "           )"
   ]
  },
  {
   "cell_type": "code",
   "execution_count": 92,
   "metadata": {
    "collapsed": false
   },
   "outputs": [
    {
     "data": {
      "text/plain": [
       "[(u'gt', 12479230),\n",
       " (u'lt', 12432637),\n",
       " (u'experience', 5530139),\n",
       " (u'amp', 4796602),\n",
       " (u'work', 4514705)]"
      ]
     },
     "execution_count": 92,
     "metadata": {},
     "output_type": "execute_result"
    }
   ],
   "source": [
    "word_count1.take(5)"
   ]
  },
  {
   "cell_type": "code",
   "execution_count": null,
   "metadata": {
    "collapsed": true
   },
   "outputs": [],
   "source": []
  },
  {
   "cell_type": "markdown",
   "metadata": {
    "collapsed": true
   },
   "source": [
    "## Spark streaming\n",
    "### Run a netcat server\n",
    "\n",
    "```\n",
    "nc -lk 9999\n",
    "```\n",
    "\n",
    "### Run network_wordcount.py with hostname and port\n",
    "```\n",
    "./spark/bin/spark-submit spark/examples/src/main/python/streaming/network_wordcount.py localhost 9999\n",
    "```"
   ]
  },
  {
   "cell_type": "markdown",
   "metadata": {},
   "source": [
    "## Spark SQL"
   ]
  },
  {
   "cell_type": "code",
   "execution_count": 93,
   "metadata": {
    "collapsed": false
   },
   "outputs": [],
   "source": [
    "from pyspark.sql import SQLContext\n",
    "from pyspark.sql.types import *\n",
    "\n",
    "sqlContext = SQLContext(sc)"
   ]
  },
  {
   "cell_type": "code",
   "execution_count": 94,
   "metadata": {
    "collapsed": false
   },
   "outputs": [],
   "source": [
    "lines = sc.textFile(\"/home/haroon/projects/SHOnet/production_jobs_0303_US.tsv\")\n",
    "rdd = lines.map(lambda x: tuple(x.split('\\t')))"
   ]
  },
  {
   "cell_type": "code",
   "execution_count": 95,
   "metadata": {
    "collapsed": true
   },
   "outputs": [],
   "source": [
    "schemaString = \"title onet_code\"\n",
    "fields = [StructField(field_name, StringType(), True) for field_name in schemaString.split()]\n",
    "schema = StructType(fields)\n"
   ]
  },
  {
   "cell_type": "code",
   "execution_count": 96,
   "metadata": {
    "collapsed": false
   },
   "outputs": [
    {
     "data": {
      "text/plain": [
       "StructType(List(StructField(title,StringType,true),StructField(onet_code,StringType,true)))"
      ]
     },
     "execution_count": 96,
     "metadata": {},
     "output_type": "execute_result"
    }
   ],
   "source": [
    "schema"
   ]
  },
  {
   "cell_type": "code",
   "execution_count": 97,
   "metadata": {
    "collapsed": false
   },
   "outputs": [
    {
     "name": "stdout",
     "output_type": "stream",
     "text": [
      "Title: Financial Consultant - Westlake, TX - Future Opportunities\n",
      "Title: Emergency Room RN Travel Nursing Job\n",
      "Title: Hiring Experienced Class A-CDL Driving Professionals for Dedicated Regional Route\n",
      "Title: Account Clerk I\n",
      "Title: Resident Care Associate\n",
      "Title: Software Engineer II (657331)\n",
      "Title: Supervisor, PIA Employer Shared Responsibility\n",
      "Title: Travel RN ICU, SICU - Surgical Intensive Care Units\n",
      "Title: Scala Engineer - Remote Position\n",
      "Title: Retail Sales Consultant\n"
     ]
    }
   ],
   "source": [
    "# Apply the schema to the RDD.\n",
    "schemaJob = sqlContext.createDataFrame(rdd, schema)\n",
    "\n",
    "# Register the DataFrame as a table.\n",
    "schemaJob.registerTempTable(\"job\")\n",
    "\n",
    "# SQL can be run over DataFrames that have been registered as a table.\n",
    "results = sqlContext.sql(\"SELECT title FROM job\")\n",
    "\n",
    "# The results of SQL queries are RDDs and support all the normal RDD operations.\n",
    "titles = results.map(lambda p: \"Title: \" + p.title)\n",
    "for title in titles.take(10):\n",
    "  print(title)"
   ]
  },
  {
   "cell_type": "code",
   "execution_count": 98,
   "metadata": {
    "collapsed": false
   },
   "outputs": [
    {
     "name": "stdout",
     "output_type": "stream",
     "text": [
      "Row(onet_code=u'29-1141.00', onet_count=177664)\n",
      "Row(onet_code=u'15-1132.00', onet_count=70368)\n",
      "Row(onet_code=u'53-3032.00', onet_count=45570)\n",
      "Row(onet_code=u'41-3099.00', onet_count=43043)\n",
      "Row(onet_code=u'41-2031.00', onet_count=39134)\n",
      "Row(onet_code=u'29-1069.00', onet_count=36375)\n",
      "Row(onet_code=u'15-1199.08', onet_count=35725)\n",
      "Row(onet_code=u'43-4051.00', onet_count=33986)\n",
      "Row(onet_code=u'15-1199.09', onet_count=32961)\n",
      "Row(onet_code=u'29-1127.00', onet_count=32022)\n"
     ]
    }
   ],
   "source": [
    "onet_counts = sqlContext.sql(\"SELECT onet_code, count(distinct title) as onet_count FROM job GROUP BY onet_code ORDER BY count(distinct title) DESC\")\n",
    "\n",
    "for onet_count in onet_counts.take(10):\n",
    "  print(onet_count)"
   ]
  },
  {
   "cell_type": "code",
   "execution_count": null,
   "metadata": {
    "collapsed": true
   },
   "outputs": [],
   "source": []
  }
 ],
 "metadata": {
  "kernelspec": {
   "display_name": "Python 2",
   "language": "python",
   "name": "python2"
  },
  "language_info": {
   "codemirror_mode": {
    "name": "ipython",
    "version": 2
   },
   "file_extension": ".py",
   "mimetype": "text/x-python",
   "name": "python",
   "nbconvert_exporter": "python",
   "pygments_lexer": "ipython2",
   "version": "2.7.6"
  }
 },
 "nbformat": 4,
 "nbformat_minor": 0
}
